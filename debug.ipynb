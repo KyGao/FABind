{
 "cells": [
  {
   "cell_type": "code",
   "execution_count": 24,
   "metadata": {},
   "outputs": [],
   "source": [
    "import pickle\n",
    "with open('test_data.pkl', 'rb') as f:\n",
    "    test_data = pickle.load(f)\n",
    "    \n",
    "with open('train_data.pkl', 'rb') as f:\n",
    "    train_data = pickle.load(f)"
   ]
  },
  {
   "cell_type": "code",
   "execution_count": 29,
   "metadata": {},
   "outputs": [
    {
     "data": {
      "text/plain": [
       "{'node_coords': tensor([[  0.0000,   0.0000,   0.0000],\n",
       "         [ -0.3212,  -0.2225,  -0.2850],\n",
       "         [ -0.3493,  -0.4432,   0.3811],\n",
       "         ...,\n",
       "         [-19.7874,   9.1988, -16.5844],\n",
       "         [-21.7514,   7.0988, -14.0804],\n",
       "         [-22.0224,   9.9628, -11.5344]], device='cuda:0'),\n",
       " 'node_coords_LAS': tensor([[ 0.0000,  0.0000,  0.0000],\n",
       "         [ 2.6404,  1.4252, -0.5950],\n",
       "         [ 1.8930,  0.2149, -0.5609],\n",
       "         ...,\n",
       "         [ 0.0000,  0.0000,  0.0000],\n",
       "         [ 0.0000,  0.0000,  0.0000],\n",
       "         [ 0.0000,  0.0000,  0.0000]], device='cuda:0'),\n",
       " 'segment': tensor([0., 0., 0.,  ..., 1., 1., 1.], device='cuda:0'),\n",
       " 'mask': tensor([ True,  True,  True,  ..., False, False, False], device='cuda:0'),\n",
       " 'is_global': tensor([ True, False, False,  ..., False, False, False], device='cuda:0'),\n",
       " 'batch': tensor([0, 0, 0,  ..., 3, 3, 3], device='cuda:0'),\n",
       " 'ptr': tensor([   0,  625, 1147, 1286, 1638], device='cuda:0')}"
      ]
     },
     "execution_count": 29,
     "metadata": {},
     "output_type": "execute_result"
    }
   ],
   "source": [
    "test_data.to_dict()['complex_whole_protein']"
   ]
  },
  {
   "cell_type": "code",
   "execution_count": 39,
   "metadata": {},
   "outputs": [
    {
     "name": "stdout",
     "output_type": "stream",
     "text": [
      "dis_map\n",
      "tensor(0., device='cuda:0')\n",
      "node_xyz\n",
      "tensor(0., device='cuda:0')\n",
      "coords\n",
      "tensor(0., device='cuda:0')\n",
      "node_xyz_whole\n",
      "tensor(0., device='cuda:0')\n",
      "coords_center\n",
      "tensor(0., device='cuda:0')\n",
      "pocket_residue_center\n",
      "tensor(0., device='cuda:0')\n",
      "seq_whole\n",
      "tensor(0, device='cuda:0')\n",
      "coord_offset\n",
      "tensor(0., device='cuda:0')\n",
      "pocket_idx\n",
      "tensor(0, device='cuda:0')\n",
      "pdb\n",
      "group\n",
      "pocket\n",
      "pocket node_feats\n",
      "tensor(0., device='cuda:0')\n",
      "pocket keepNode\n",
      "pocket batch\n",
      "tensor(0., device='cuda:0')\n",
      "pocket ptr\n",
      "tensor(0., device='cuda:0')\n",
      "compound\n",
      "compound node_feats\n",
      "tensor(0., device='cuda:0')\n",
      "compound node_coords\n",
      "tensor(0.3304, device='cuda:0')\n",
      "compound rdkit_coords\n",
      "tensor(0., device='cuda:0')\n",
      "compound batch\n",
      "tensor(0., device='cuda:0')\n",
      "compound ptr\n",
      "tensor(0., device='cuda:0')\n",
      "complex\n",
      "complex node_coords\n",
      "tensor(0.0599, device='cuda:0')\n",
      "complex node_coords_LAS\n",
      "tensor(0., device='cuda:0')\n",
      "complex segment\n",
      "tensor(0., device='cuda:0')\n",
      "complex mask\n",
      "complex is_global\n",
      "complex batch\n",
      "tensor(0., device='cuda:0')\n",
      "complex ptr\n",
      "tensor(0., device='cuda:0')\n",
      "complex_whole_protein\n",
      "complex_whole_protein node_coords\n",
      "tensor(0.0168, device='cuda:0')\n",
      "complex_whole_protein node_coords_LAS\n",
      "tensor(0., device='cuda:0')\n",
      "complex_whole_protein segment\n",
      "tensor(0., device='cuda:0')\n",
      "complex_whole_protein mask\n",
      "complex_whole_protein is_global\n",
      "complex_whole_protein batch\n",
      "tensor(0., device='cuda:0')\n",
      "complex_whole_protein ptr\n",
      "tensor(0., device='cuda:0')\n",
      "compound_atom_edge_list\n",
      "compound_atom_edge_list x\n",
      "tensor(0., device='cuda:0')\n",
      "compound_atom_edge_list x_batch\n",
      "tensor(0., device='cuda:0')\n",
      "compound_atom_edge_list x_ptr\n",
      "tensor(0., device='cuda:0')\n",
      "compound_atom_edge_list batch\n",
      "tensor(0., device='cuda:0')\n",
      "compound_atom_edge_list ptr\n",
      "tensor(0., device='cuda:0')\n",
      "LAS_edge_list\n",
      "LAS_edge_list x\n",
      "tensor(0., device='cuda:0')\n",
      "LAS_edge_list x_batch\n",
      "tensor(0., device='cuda:0')\n",
      "LAS_edge_list x_ptr\n",
      "tensor(0., device='cuda:0')\n",
      "LAS_edge_list batch\n",
      "tensor(0., device='cuda:0')\n",
      "LAS_edge_list ptr\n",
      "tensor(0., device='cuda:0')\n",
      "protein_whole\n",
      "protein_whole node_feats\n",
      "tensor(0., device='cuda:0')\n",
      "protein_whole batch\n",
      "tensor(0., device='cuda:0')\n",
      "protein_whole ptr\n",
      "tensor(0., device='cuda:0')\n",
      "('compound', 'LAS', 'compound')\n",
      "('compound', 'LAS', 'compound') edge_index\n",
      "tensor(0., device='cuda:0')\n",
      "('complex', 'c2c', 'complex')\n",
      "('complex', 'c2c', 'complex') edge_index\n",
      "tensor(0., device='cuda:0')\n",
      "('complex', 'LAS', 'complex')\n",
      "('complex', 'LAS', 'complex') edge_index\n",
      "tensor(0., device='cuda:0')\n",
      "('complex_whole_protein', 'c2c', 'complex_whole_protein')\n",
      "('complex_whole_protein', 'c2c', 'complex_whole_protein') edge_index\n",
      "tensor(0., device='cuda:0')\n",
      "('complex_whole_protein', 'LAS', 'complex_whole_protein')\n",
      "('complex_whole_protein', 'LAS', 'complex_whole_protein') edge_index\n",
      "tensor(0., device='cuda:0')\n"
     ]
    }
   ],
   "source": [
    "import torch\n",
    "\n",
    "def compare_data_objects(data1, data2):\n",
    "    for key in data1.keys():\n",
    "        print(key)\n",
    "        if key in ['pdb', 'group']:\n",
    "            continue\n",
    "        try:\n",
    "            print(torch.abs(data1[key] - data2[key]).sum())\n",
    "        except:\n",
    "            for keyy in data1[key].keys():\n",
    "                print(key, keyy)\n",
    "                if keyy in ['keepNode', 'mask', 'is_global']:\n",
    "                    continue\n",
    "                else:\n",
    "                    print(torch.abs(data1[key][keyy] - data2[key][keyy]).to(torch.float).mean())\n",
    "\n",
    "compare_data_objects(test_data.to_dict(), train_data.to_dict())"
   ]
  },
  {
   "cell_type": "code",
   "execution_count": 40,
   "metadata": {},
   "outputs": [],
   "source": [
    "import torch\n",
    "test_model = torch.load('test.pt')\n",
    "train_model = torch.load('train.pt')"
   ]
  },
  {
   "cell_type": "code",
   "execution_count": 44,
   "metadata": {},
   "outputs": [
    {
     "data": {
      "text/plain": [
       "odict_keys(['glb_c', 'glb_p', 'layernorm.weight', 'layernorm.bias', 'complex_model.gnn.linear_in.weight', 'complex_model.gnn.linear_in.bias', 'complex_model.gnn.linear_out.weight', 'complex_model.gnn.linear_out.bias', 'complex_model.gnn.gcl_0.edge_mlp.0.weight', 'complex_model.gnn.gcl_0.edge_mlp.0.bias', 'complex_model.gnn.gcl_0.edge_mlp.2.weight', 'complex_model.gnn.gcl_0.edge_mlp.2.bias', 'complex_model.gnn.gcl_0.node_mlp.0.weight', 'complex_model.gnn.gcl_0.node_mlp.0.bias', 'complex_model.gnn.gcl_0.node_mlp.2.weight', 'complex_model.gnn.gcl_0.node_mlp.2.bias', 'complex_model.gnn.gcl_0.coord_mlp.0.weight', 'complex_model.gnn.gcl_0.coord_mlp.0.bias', 'complex_model.gnn.gcl_0.coord_mlp.2.weight', 'complex_model.gnn.att_0.linear_q.weight', 'complex_model.gnn.att_0.linear_q.bias', 'complex_model.gnn.att_0.linear_kv.weight', 'complex_model.gnn.att_0.linear_kv.bias', 'complex_model.gnn.att_0.coord_mlp.0.weight', 'complex_model.gnn.att_0.coord_mlp.0.bias', 'complex_model.gnn.att_0.coord_mlp.2.weight', 'complex_model.gnn.att_0.cross_attn_module.p_attention_block.linear.weight', 'complex_model.gnn.att_0.cross_attn_module.p_attention_block.linear.bias', 'complex_model.gnn.att_0.cross_attn_module.p_attention_block.linear_g.weight', 'complex_model.gnn.att_0.cross_attn_module.p_attention_block.linear_g.bias', 'complex_model.gnn.att_0.cross_attn_module.p_attention_block.mha.linear_q.weight', 'complex_model.gnn.att_0.cross_attn_module.p_attention_block.mha.linear_k.weight', 'complex_model.gnn.att_0.cross_attn_module.p_attention_block.mha.linear_v.weight', 'complex_model.gnn.att_0.cross_attn_module.p_attention_block.mha.linear_o.weight', 'complex_model.gnn.att_0.cross_attn_module.p_attention_block.mha.linear_o.bias', 'complex_model.gnn.att_0.cross_attn_module.p_attention_block.mha.linear_g.weight', 'complex_model.gnn.att_0.cross_attn_module.p_attention_block.mha.linear_g.bias', 'complex_model.gnn.att_0.cross_attn_module.c_attention_block.linear.weight', 'complex_model.gnn.att_0.cross_attn_module.c_attention_block.linear.bias', 'complex_model.gnn.att_0.cross_attn_module.c_attention_block.linear_g.weight', 'complex_model.gnn.att_0.cross_attn_module.c_attention_block.linear_g.bias', 'complex_model.gnn.att_0.cross_attn_module.c_attention_block.mha.linear_q.weight', 'complex_model.gnn.att_0.cross_attn_module.c_attention_block.mha.linear_k.weight', 'complex_model.gnn.att_0.cross_attn_module.c_attention_block.mha.linear_v.weight', 'complex_model.gnn.att_0.cross_attn_module.c_attention_block.mha.linear_o.weight', 'complex_model.gnn.att_0.cross_attn_module.c_attention_block.mha.linear_o.bias', 'complex_model.gnn.att_0.cross_attn_module.c_attention_block.mha.linear_g.weight', 'complex_model.gnn.att_0.cross_attn_module.c_attention_block.mha.linear_g.bias', 'complex_model.gnn.att_0.cross_attn_module.p_transition.linear_1.weight', 'complex_model.gnn.att_0.cross_attn_module.p_transition.linear_1.bias', 'complex_model.gnn.att_0.cross_attn_module.p_transition.linear_2.weight', 'complex_model.gnn.att_0.cross_attn_module.p_transition.linear_2.bias', 'complex_model.gnn.att_0.cross_attn_module.c_transition.linear_1.weight', 'complex_model.gnn.att_0.cross_attn_module.c_transition.linear_1.bias', 'complex_model.gnn.att_0.cross_attn_module.c_transition.linear_2.weight', 'complex_model.gnn.att_0.cross_attn_module.c_transition.linear_2.bias', 'complex_model.gnn.att_0.cross_attn_module.pair_transition.linear_1.weight', 'complex_model.gnn.att_0.cross_attn_module.pair_transition.linear_1.bias', 'complex_model.gnn.att_0.cross_attn_module.pair_transition.linear_2.weight', 'complex_model.gnn.att_0.cross_attn_module.pair_transition.linear_2.bias', 'complex_model.gnn.att_0.cross_attn_module.inter_layer.linear_p.weight', 'complex_model.gnn.att_0.cross_attn_module.inter_layer.linear_p.bias', 'complex_model.gnn.att_0.cross_attn_module.inter_layer.linear_c.weight', 'complex_model.gnn.att_0.cross_attn_module.inter_layer.linear_c.bias', 'complex_model.gnn.att_0.cross_attn_module.inter_layer.linear_out.weight', 'complex_model.gnn.att_0.cross_attn_module.inter_layer.linear_out.bias', 'complex_model.gnn.att_0.inter_layer.linear_p.weight', 'complex_model.gnn.att_0.inter_layer.linear_p.bias', 'complex_model.gnn.att_0.inter_layer.linear_c.weight', 'complex_model.gnn.att_0.inter_layer.linear_c.bias', 'complex_model.gnn.att_0.inter_layer.linear_out.weight', 'complex_model.gnn.att_0.inter_layer.linear_out.bias', 'complex_model.gnn.att_0.attn_bias_proj.weight', 'complex_model.gnn.att_0.attn_bias_proj.bias', 'complex_model.gnn.gcl_1.edge_mlp.0.weight', 'complex_model.gnn.gcl_1.edge_mlp.0.bias', 'complex_model.gnn.gcl_1.edge_mlp.2.weight', 'complex_model.gnn.gcl_1.edge_mlp.2.bias', 'complex_model.gnn.gcl_1.node_mlp.0.weight', 'complex_model.gnn.gcl_1.node_mlp.0.bias', 'complex_model.gnn.gcl_1.node_mlp.2.weight', 'complex_model.gnn.gcl_1.node_mlp.2.bias', 'complex_model.gnn.gcl_1.coord_mlp.0.weight', 'complex_model.gnn.gcl_1.coord_mlp.0.bias', 'complex_model.gnn.gcl_1.coord_mlp.2.weight', 'complex_model.gnn.att_1.linear_q.weight', 'complex_model.gnn.att_1.linear_q.bias', 'complex_model.gnn.att_1.linear_kv.weight', 'complex_model.gnn.att_1.linear_kv.bias', 'complex_model.gnn.att_1.coord_mlp.0.weight', 'complex_model.gnn.att_1.coord_mlp.0.bias', 'complex_model.gnn.att_1.coord_mlp.2.weight', 'complex_model.gnn.att_1.cross_attn_module.p_attention_block.linear.weight', 'complex_model.gnn.att_1.cross_attn_module.p_attention_block.linear.bias', 'complex_model.gnn.att_1.cross_attn_module.p_attention_block.linear_g.weight', 'complex_model.gnn.att_1.cross_attn_module.p_attention_block.linear_g.bias', 'complex_model.gnn.att_1.cross_attn_module.p_attention_block.mha.linear_q.weight', 'complex_model.gnn.att_1.cross_attn_module.p_attention_block.mha.linear_k.weight', 'complex_model.gnn.att_1.cross_attn_module.p_attention_block.mha.linear_v.weight', 'complex_model.gnn.att_1.cross_attn_module.p_attention_block.mha.linear_o.weight', 'complex_model.gnn.att_1.cross_attn_module.p_attention_block.mha.linear_o.bias', 'complex_model.gnn.att_1.cross_attn_module.p_attention_block.mha.linear_g.weight', 'complex_model.gnn.att_1.cross_attn_module.p_attention_block.mha.linear_g.bias', 'complex_model.gnn.att_1.cross_attn_module.c_attention_block.linear.weight', 'complex_model.gnn.att_1.cross_attn_module.c_attention_block.linear.bias', 'complex_model.gnn.att_1.cross_attn_module.c_attention_block.linear_g.weight', 'complex_model.gnn.att_1.cross_attn_module.c_attention_block.linear_g.bias', 'complex_model.gnn.att_1.cross_attn_module.c_attention_block.mha.linear_q.weight', 'complex_model.gnn.att_1.cross_attn_module.c_attention_block.mha.linear_k.weight', 'complex_model.gnn.att_1.cross_attn_module.c_attention_block.mha.linear_v.weight', 'complex_model.gnn.att_1.cross_attn_module.c_attention_block.mha.linear_o.weight', 'complex_model.gnn.att_1.cross_attn_module.c_attention_block.mha.linear_o.bias', 'complex_model.gnn.att_1.cross_attn_module.c_attention_block.mha.linear_g.weight', 'complex_model.gnn.att_1.cross_attn_module.c_attention_block.mha.linear_g.bias', 'complex_model.gnn.att_1.cross_attn_module.p_transition.linear_1.weight', 'complex_model.gnn.att_1.cross_attn_module.p_transition.linear_1.bias', 'complex_model.gnn.att_1.cross_attn_module.p_transition.linear_2.weight', 'complex_model.gnn.att_1.cross_attn_module.p_transition.linear_2.bias', 'complex_model.gnn.att_1.cross_attn_module.c_transition.linear_1.weight', 'complex_model.gnn.att_1.cross_attn_module.c_transition.linear_1.bias', 'complex_model.gnn.att_1.cross_attn_module.c_transition.linear_2.weight', 'complex_model.gnn.att_1.cross_attn_module.c_transition.linear_2.bias', 'complex_model.gnn.att_1.cross_attn_module.pair_transition.linear_1.weight', 'complex_model.gnn.att_1.cross_attn_module.pair_transition.linear_1.bias', 'complex_model.gnn.att_1.cross_attn_module.pair_transition.linear_2.weight', 'complex_model.gnn.att_1.cross_attn_module.pair_transition.linear_2.bias', 'complex_model.gnn.att_1.cross_attn_module.inter_layer.linear_p.weight', 'complex_model.gnn.att_1.cross_attn_module.inter_layer.linear_p.bias', 'complex_model.gnn.att_1.cross_attn_module.inter_layer.linear_c.weight', 'complex_model.gnn.att_1.cross_attn_module.inter_layer.linear_c.bias', 'complex_model.gnn.att_1.cross_attn_module.inter_layer.linear_out.weight', 'complex_model.gnn.att_1.cross_attn_module.inter_layer.linear_out.bias', 'complex_model.gnn.att_1.inter_layer.linear_p.weight', 'complex_model.gnn.att_1.inter_layer.linear_p.bias', 'complex_model.gnn.att_1.inter_layer.linear_c.weight', 'complex_model.gnn.att_1.inter_layer.linear_c.bias', 'complex_model.gnn.att_1.inter_layer.linear_out.weight', 'complex_model.gnn.att_1.inter_layer.linear_out.bias', 'complex_model.gnn.att_1.attn_bias_proj.weight', 'complex_model.gnn.att_1.attn_bias_proj.bias', 'complex_model.gnn.gcl_2.edge_mlp.0.weight', 'complex_model.gnn.gcl_2.edge_mlp.0.bias', 'complex_model.gnn.gcl_2.edge_mlp.2.weight', 'complex_model.gnn.gcl_2.edge_mlp.2.bias', 'complex_model.gnn.gcl_2.node_mlp.0.weight', 'complex_model.gnn.gcl_2.node_mlp.0.bias', 'complex_model.gnn.gcl_2.node_mlp.2.weight', 'complex_model.gnn.gcl_2.node_mlp.2.bias', 'complex_model.gnn.gcl_2.coord_mlp.0.weight', 'complex_model.gnn.gcl_2.coord_mlp.0.bias', 'complex_model.gnn.gcl_2.coord_mlp.2.weight', 'complex_model.gnn.att_2.linear_q.weight', 'complex_model.gnn.att_2.linear_q.bias', 'complex_model.gnn.att_2.linear_kv.weight', 'complex_model.gnn.att_2.linear_kv.bias', 'complex_model.gnn.att_2.coord_mlp.0.weight', 'complex_model.gnn.att_2.coord_mlp.0.bias', 'complex_model.gnn.att_2.coord_mlp.2.weight', 'complex_model.gnn.att_2.cross_attn_module.p_attention_block.linear.weight', 'complex_model.gnn.att_2.cross_attn_module.p_attention_block.linear.bias', 'complex_model.gnn.att_2.cross_attn_module.p_attention_block.linear_g.weight', 'complex_model.gnn.att_2.cross_attn_module.p_attention_block.linear_g.bias', 'complex_model.gnn.att_2.cross_attn_module.p_attention_block.mha.linear_q.weight', 'complex_model.gnn.att_2.cross_attn_module.p_attention_block.mha.linear_k.weight', 'complex_model.gnn.att_2.cross_attn_module.p_attention_block.mha.linear_v.weight', 'complex_model.gnn.att_2.cross_attn_module.p_attention_block.mha.linear_o.weight', 'complex_model.gnn.att_2.cross_attn_module.p_attention_block.mha.linear_o.bias', 'complex_model.gnn.att_2.cross_attn_module.p_attention_block.mha.linear_g.weight', 'complex_model.gnn.att_2.cross_attn_module.p_attention_block.mha.linear_g.bias', 'complex_model.gnn.att_2.cross_attn_module.c_attention_block.linear.weight', 'complex_model.gnn.att_2.cross_attn_module.c_attention_block.linear.bias', 'complex_model.gnn.att_2.cross_attn_module.c_attention_block.linear_g.weight', 'complex_model.gnn.att_2.cross_attn_module.c_attention_block.linear_g.bias', 'complex_model.gnn.att_2.cross_attn_module.c_attention_block.mha.linear_q.weight', 'complex_model.gnn.att_2.cross_attn_module.c_attention_block.mha.linear_k.weight', 'complex_model.gnn.att_2.cross_attn_module.c_attention_block.mha.linear_v.weight', 'complex_model.gnn.att_2.cross_attn_module.c_attention_block.mha.linear_o.weight', 'complex_model.gnn.att_2.cross_attn_module.c_attention_block.mha.linear_o.bias', 'complex_model.gnn.att_2.cross_attn_module.c_attention_block.mha.linear_g.weight', 'complex_model.gnn.att_2.cross_attn_module.c_attention_block.mha.linear_g.bias', 'complex_model.gnn.att_2.cross_attn_module.p_transition.linear_1.weight', 'complex_model.gnn.att_2.cross_attn_module.p_transition.linear_1.bias', 'complex_model.gnn.att_2.cross_attn_module.p_transition.linear_2.weight', 'complex_model.gnn.att_2.cross_attn_module.p_transition.linear_2.bias', 'complex_model.gnn.att_2.cross_attn_module.c_transition.linear_1.weight', 'complex_model.gnn.att_2.cross_attn_module.c_transition.linear_1.bias', 'complex_model.gnn.att_2.cross_attn_module.c_transition.linear_2.weight', 'complex_model.gnn.att_2.cross_attn_module.c_transition.linear_2.bias', 'complex_model.gnn.att_2.cross_attn_module.pair_transition.linear_1.weight', 'complex_model.gnn.att_2.cross_attn_module.pair_transition.linear_1.bias', 'complex_model.gnn.att_2.cross_attn_module.pair_transition.linear_2.weight', 'complex_model.gnn.att_2.cross_attn_module.pair_transition.linear_2.bias', 'complex_model.gnn.att_2.cross_attn_module.inter_layer.linear_p.weight', 'complex_model.gnn.att_2.cross_attn_module.inter_layer.linear_p.bias', 'complex_model.gnn.att_2.cross_attn_module.inter_layer.linear_c.weight', 'complex_model.gnn.att_2.cross_attn_module.inter_layer.linear_c.bias', 'complex_model.gnn.att_2.cross_attn_module.inter_layer.linear_out.weight', 'complex_model.gnn.att_2.cross_attn_module.inter_layer.linear_out.bias', 'complex_model.gnn.att_2.inter_layer.linear_p.weight', 'complex_model.gnn.att_2.inter_layer.linear_p.bias', 'complex_model.gnn.att_2.inter_layer.linear_c.weight', 'complex_model.gnn.att_2.inter_layer.linear_c.bias', 'complex_model.gnn.att_2.inter_layer.linear_out.weight', 'complex_model.gnn.att_2.inter_layer.linear_out.bias', 'complex_model.gnn.att_2.attn_bias_proj.weight', 'complex_model.gnn.att_2.attn_bias_proj.bias', 'complex_model.gnn.gcl_3.edge_mlp.0.weight', 'complex_model.gnn.gcl_3.edge_mlp.0.bias', 'complex_model.gnn.gcl_3.edge_mlp.2.weight', 'complex_model.gnn.gcl_3.edge_mlp.2.bias', 'complex_model.gnn.gcl_3.node_mlp.0.weight', 'complex_model.gnn.gcl_3.node_mlp.0.bias', 'complex_model.gnn.gcl_3.node_mlp.2.weight', 'complex_model.gnn.gcl_3.node_mlp.2.bias', 'complex_model.gnn.gcl_3.coord_mlp.0.weight', 'complex_model.gnn.gcl_3.coord_mlp.0.bias', 'complex_model.gnn.gcl_3.coord_mlp.2.weight', 'complex_model.gnn.att_3.linear_q.weight', 'complex_model.gnn.att_3.linear_q.bias', 'complex_model.gnn.att_3.linear_kv.weight', 'complex_model.gnn.att_3.linear_kv.bias', 'complex_model.gnn.att_3.coord_mlp.0.weight', 'complex_model.gnn.att_3.coord_mlp.0.bias', 'complex_model.gnn.att_3.coord_mlp.2.weight', 'complex_model.gnn.att_3.cross_attn_module.p_attention_block.linear.weight', 'complex_model.gnn.att_3.cross_attn_module.p_attention_block.linear.bias', 'complex_model.gnn.att_3.cross_attn_module.p_attention_block.linear_g.weight', 'complex_model.gnn.att_3.cross_attn_module.p_attention_block.linear_g.bias', 'complex_model.gnn.att_3.cross_attn_module.p_attention_block.mha.linear_q.weight', 'complex_model.gnn.att_3.cross_attn_module.p_attention_block.mha.linear_k.weight', 'complex_model.gnn.att_3.cross_attn_module.p_attention_block.mha.linear_v.weight', 'complex_model.gnn.att_3.cross_attn_module.p_attention_block.mha.linear_o.weight', 'complex_model.gnn.att_3.cross_attn_module.p_attention_block.mha.linear_o.bias', 'complex_model.gnn.att_3.cross_attn_module.p_attention_block.mha.linear_g.weight', 'complex_model.gnn.att_3.cross_attn_module.p_attention_block.mha.linear_g.bias', 'complex_model.gnn.att_3.cross_attn_module.c_attention_block.linear.weight', 'complex_model.gnn.att_3.cross_attn_module.c_attention_block.linear.bias', 'complex_model.gnn.att_3.cross_attn_module.c_attention_block.linear_g.weight', 'complex_model.gnn.att_3.cross_attn_module.c_attention_block.linear_g.bias', 'complex_model.gnn.att_3.cross_attn_module.c_attention_block.mha.linear_q.weight', 'complex_model.gnn.att_3.cross_attn_module.c_attention_block.mha.linear_k.weight', 'complex_model.gnn.att_3.cross_attn_module.c_attention_block.mha.linear_v.weight', 'complex_model.gnn.att_3.cross_attn_module.c_attention_block.mha.linear_o.weight', 'complex_model.gnn.att_3.cross_attn_module.c_attention_block.mha.linear_o.bias', 'complex_model.gnn.att_3.cross_attn_module.c_attention_block.mha.linear_g.weight', 'complex_model.gnn.att_3.cross_attn_module.c_attention_block.mha.linear_g.bias', 'complex_model.gnn.att_3.cross_attn_module.p_transition.linear_1.weight', 'complex_model.gnn.att_3.cross_attn_module.p_transition.linear_1.bias', 'complex_model.gnn.att_3.cross_attn_module.p_transition.linear_2.weight', 'complex_model.gnn.att_3.cross_attn_module.p_transition.linear_2.bias', 'complex_model.gnn.att_3.cross_attn_module.c_transition.linear_1.weight', 'complex_model.gnn.att_3.cross_attn_module.c_transition.linear_1.bias', 'complex_model.gnn.att_3.cross_attn_module.c_transition.linear_2.weight', 'complex_model.gnn.att_3.cross_attn_module.c_transition.linear_2.bias', 'complex_model.gnn.att_3.cross_attn_module.pair_transition.linear_1.weight', 'complex_model.gnn.att_3.cross_attn_module.pair_transition.linear_1.bias', 'complex_model.gnn.att_3.cross_attn_module.pair_transition.linear_2.weight', 'complex_model.gnn.att_3.cross_attn_module.pair_transition.linear_2.bias', 'complex_model.gnn.att_3.cross_attn_module.inter_layer.linear_p.weight', 'complex_model.gnn.att_3.cross_attn_module.inter_layer.linear_p.bias', 'complex_model.gnn.att_3.cross_attn_module.inter_layer.linear_c.weight', 'complex_model.gnn.att_3.cross_attn_module.inter_layer.linear_c.bias', 'complex_model.gnn.att_3.cross_attn_module.inter_layer.linear_out.weight', 'complex_model.gnn.att_3.cross_attn_module.inter_layer.linear_out.bias', 'complex_model.gnn.att_3.inter_layer.linear_p.weight', 'complex_model.gnn.att_3.inter_layer.linear_p.bias', 'complex_model.gnn.att_3.inter_layer.linear_c.weight', 'complex_model.gnn.att_3.inter_layer.linear_c.bias', 'complex_model.gnn.att_3.inter_layer.linear_out.weight', 'complex_model.gnn.att_3.inter_layer.linear_out.bias', 'complex_model.gnn.att_3.attn_bias_proj.weight', 'complex_model.gnn.att_3.attn_bias_proj.bias', 'complex_model.gnn.out_layer.edge_mlp.0.weight', 'complex_model.gnn.out_layer.edge_mlp.0.bias', 'complex_model.gnn.out_layer.edge_mlp.2.weight', 'complex_model.gnn.out_layer.edge_mlp.2.bias', 'complex_model.gnn.out_layer.node_mlp.0.weight', 'complex_model.gnn.out_layer.node_mlp.0.bias', 'complex_model.gnn.out_layer.node_mlp.2.weight', 'complex_model.gnn.out_layer.node_mlp.2.bias', 'complex_model.gnn.out_layer.coord_mlp.0.weight', 'complex_model.gnn.out_layer.coord_mlp.0.bias', 'complex_model.gnn.out_layer.coord_mlp.2.weight', 'complex_model.inter_layer.linear_p.weight', 'complex_model.inter_layer.linear_p.bias', 'complex_model.inter_layer.linear_c.weight', 'complex_model.inter_layer.linear_c.bias', 'complex_model.inter_layer.linear_out.weight', 'complex_model.inter_layer.linear_out.bias', 'pocket_pred_model.gnn.linear_in.weight', 'pocket_pred_model.gnn.linear_in.bias', 'pocket_pred_model.gnn.linear_out.weight', 'pocket_pred_model.gnn.linear_out.bias', 'pocket_pred_model.gnn.gcl_0.edge_mlp.0.weight', 'pocket_pred_model.gnn.gcl_0.edge_mlp.0.bias', 'pocket_pred_model.gnn.gcl_0.edge_mlp.2.weight', 'pocket_pred_model.gnn.gcl_0.edge_mlp.2.bias', 'pocket_pred_model.gnn.gcl_0.node_mlp.0.weight', 'pocket_pred_model.gnn.gcl_0.node_mlp.0.bias', 'pocket_pred_model.gnn.gcl_0.node_mlp.2.weight', 'pocket_pred_model.gnn.gcl_0.node_mlp.2.bias', 'pocket_pred_model.gnn.gcl_0.coord_mlp.0.weight', 'pocket_pred_model.gnn.gcl_0.coord_mlp.0.bias', 'pocket_pred_model.gnn.gcl_0.coord_mlp.2.weight', 'pocket_pred_model.gnn.att_0.linear_q.weight', 'pocket_pred_model.gnn.att_0.linear_q.bias', 'pocket_pred_model.gnn.att_0.linear_kv.weight', 'pocket_pred_model.gnn.att_0.linear_kv.bias', 'pocket_pred_model.gnn.att_0.coord_mlp.0.weight', 'pocket_pred_model.gnn.att_0.coord_mlp.0.bias', 'pocket_pred_model.gnn.att_0.coord_mlp.2.weight', 'pocket_pred_model.gnn.att_0.cross_attn_module.p_attention_block.linear.weight', 'pocket_pred_model.gnn.att_0.cross_attn_module.p_attention_block.linear.bias', 'pocket_pred_model.gnn.att_0.cross_attn_module.p_attention_block.linear_g.weight', 'pocket_pred_model.gnn.att_0.cross_attn_module.p_attention_block.linear_g.bias', 'pocket_pred_model.gnn.att_0.cross_attn_module.p_attention_block.mha.linear_q.weight', 'pocket_pred_model.gnn.att_0.cross_attn_module.p_attention_block.mha.linear_k.weight', 'pocket_pred_model.gnn.att_0.cross_attn_module.p_attention_block.mha.linear_v.weight', 'pocket_pred_model.gnn.att_0.cross_attn_module.p_attention_block.mha.linear_o.weight', 'pocket_pred_model.gnn.att_0.cross_attn_module.p_attention_block.mha.linear_o.bias', 'pocket_pred_model.gnn.att_0.cross_attn_module.p_attention_block.mha.linear_g.weight', 'pocket_pred_model.gnn.att_0.cross_attn_module.p_attention_block.mha.linear_g.bias', 'pocket_pred_model.gnn.att_0.cross_attn_module.c_attention_block.linear.weight', 'pocket_pred_model.gnn.att_0.cross_attn_module.c_attention_block.linear.bias', 'pocket_pred_model.gnn.att_0.cross_attn_module.c_attention_block.linear_g.weight', 'pocket_pred_model.gnn.att_0.cross_attn_module.c_attention_block.linear_g.bias', 'pocket_pred_model.gnn.att_0.cross_attn_module.c_attention_block.mha.linear_q.weight', 'pocket_pred_model.gnn.att_0.cross_attn_module.c_attention_block.mha.linear_k.weight', 'pocket_pred_model.gnn.att_0.cross_attn_module.c_attention_block.mha.linear_v.weight', 'pocket_pred_model.gnn.att_0.cross_attn_module.c_attention_block.mha.linear_o.weight', 'pocket_pred_model.gnn.att_0.cross_attn_module.c_attention_block.mha.linear_o.bias', 'pocket_pred_model.gnn.att_0.cross_attn_module.c_attention_block.mha.linear_g.weight', 'pocket_pred_model.gnn.att_0.cross_attn_module.c_attention_block.mha.linear_g.bias', 'pocket_pred_model.gnn.att_0.cross_attn_module.p_transition.linear_1.weight', 'pocket_pred_model.gnn.att_0.cross_attn_module.p_transition.linear_1.bias', 'pocket_pred_model.gnn.att_0.cross_attn_module.p_transition.linear_2.weight', 'pocket_pred_model.gnn.att_0.cross_attn_module.p_transition.linear_2.bias', 'pocket_pred_model.gnn.att_0.cross_attn_module.c_transition.linear_1.weight', 'pocket_pred_model.gnn.att_0.cross_attn_module.c_transition.linear_1.bias', 'pocket_pred_model.gnn.att_0.cross_attn_module.c_transition.linear_2.weight', 'pocket_pred_model.gnn.att_0.cross_attn_module.c_transition.linear_2.bias', 'pocket_pred_model.gnn.att_0.cross_attn_module.pair_transition.linear_1.weight', 'pocket_pred_model.gnn.att_0.cross_attn_module.pair_transition.linear_1.bias', 'pocket_pred_model.gnn.att_0.cross_attn_module.pair_transition.linear_2.weight', 'pocket_pred_model.gnn.att_0.cross_attn_module.pair_transition.linear_2.bias', 'pocket_pred_model.gnn.att_0.cross_attn_module.inter_layer.linear_p.weight', 'pocket_pred_model.gnn.att_0.cross_attn_module.inter_layer.linear_p.bias', 'pocket_pred_model.gnn.att_0.cross_attn_module.inter_layer.linear_c.weight', 'pocket_pred_model.gnn.att_0.cross_attn_module.inter_layer.linear_c.bias', 'pocket_pred_model.gnn.att_0.cross_attn_module.inter_layer.linear_out.weight', 'pocket_pred_model.gnn.att_0.cross_attn_module.inter_layer.linear_out.bias', 'pocket_pred_model.gnn.att_0.inter_layer.linear_p.weight', 'pocket_pred_model.gnn.att_0.inter_layer.linear_p.bias', 'pocket_pred_model.gnn.att_0.inter_layer.linear_c.weight', 'pocket_pred_model.gnn.att_0.inter_layer.linear_c.bias', 'pocket_pred_model.gnn.att_0.inter_layer.linear_out.weight', 'pocket_pred_model.gnn.att_0.inter_layer.linear_out.bias', 'pocket_pred_model.gnn.att_0.attn_bias_proj.weight', 'pocket_pred_model.gnn.att_0.attn_bias_proj.bias', 'pocket_pred_model.gnn.out_layer.edge_mlp.0.weight', 'pocket_pred_model.gnn.out_layer.edge_mlp.0.bias', 'pocket_pred_model.gnn.out_layer.edge_mlp.2.weight', 'pocket_pred_model.gnn.out_layer.edge_mlp.2.bias', 'pocket_pred_model.gnn.out_layer.node_mlp.0.weight', 'pocket_pred_model.gnn.out_layer.node_mlp.0.bias', 'pocket_pred_model.gnn.out_layer.node_mlp.2.weight', 'pocket_pred_model.gnn.out_layer.node_mlp.2.bias', 'pocket_pred_model.gnn.out_layer.coord_mlp.0.weight', 'pocket_pred_model.gnn.out_layer.coord_mlp.0.bias', 'pocket_pred_model.gnn.out_layer.coord_mlp.2.weight', 'pocket_pred_model.inter_layer.linear_p.weight', 'pocket_pred_model.inter_layer.linear_p.bias', 'pocket_pred_model.inter_layer.linear_c.weight', 'pocket_pred_model.inter_layer.linear_c.bias', 'pocket_pred_model.inter_layer.linear_out.weight', 'pocket_pred_model.inter_layer.linear_out.bias', 'protein_to_pocket.layernorm.weight', 'protein_to_pocket.layernorm.bias', 'protein_to_pocket.linear1.weight', 'protein_to_pocket.linear1.bias', 'protein_to_pocket.linear2.weight', 'protein_to_pocket.linear2.bias', 'protein_linear_whole_protein.weight', 'protein_linear_whole_protein.bias', 'compound_linear_whole_protein.weight', 'compound_linear_whole_protein.bias', 'embedding_shrink.weight', 'embedding_shrink.bias', 'embedding_enlarge.weight', 'embedding_enlarge.bias', 'distmap_mlp.0.weight', 'distmap_mlp.0.bias', 'distmap_mlp.2.weight', 'distmap_mlp.2.bias'])"
      ]
     },
     "execution_count": 44,
     "metadata": {},
     "output_type": "execute_result"
    }
   ],
   "source": [
    "test_model.keys()"
   ]
  },
  {
   "cell_type": "code",
   "execution_count": 46,
   "metadata": {},
   "outputs": [
    {
     "name": "stdout",
     "output_type": "stream",
     "text": [
      "tensor(0., device='cuda:0')\n"
     ]
    }
   ],
   "source": [
    "print((test_model['complex_model.gnn.linear_in.weight'] - train_model['complex_model.gnn.linear_in.weight']).mean())"
   ]
  }
 ],
 "metadata": {
  "kernelspec": {
   "display_name": "py38",
   "language": "python",
   "name": "python3"
  },
  "language_info": {
   "codemirror_mode": {
    "name": "ipython",
    "version": 3
   },
   "file_extension": ".py",
   "mimetype": "text/x-python",
   "name": "python",
   "nbconvert_exporter": "python",
   "pygments_lexer": "ipython3",
   "version": "3.8.15"
  }
 },
 "nbformat": 4,
 "nbformat_minor": 2
}
